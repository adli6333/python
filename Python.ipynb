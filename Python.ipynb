{
 "cells": [
  {
   "cell_type": "code",
   "execution_count": 1,
   "metadata": {},
   "outputs": [
    {
     "name": "stdout",
     "output_type": "stream",
     "text": [
      "True\n"
     ]
    }
   ],
   "source": [
    "if True:\n",
    "    print(\"True\")\n",
    "else:\n",
    "    print(\"False\")\n"
   ]
  },
  {
   "cell_type": "code",
   "execution_count": 2,
   "metadata": {},
   "outputs": [
    {
     "name": "stdout",
     "output_type": "stream",
     "text": [
      "Welcome to Perak Technology\n"
     ]
    }
   ],
   "source": [
    "print(\"Welcome to Perak Technology\")"
   ]
  },
  {
   "cell_type": "code",
   "execution_count": 4,
   "metadata": {},
   "outputs": [
    {
     "name": "stdout",
     "output_type": "stream",
     "text": [
      "Enter your name: Perak Technology\n",
      "Perak Technology\n"
     ]
    }
   ],
   "source": [
    "name = input(\"Enter your name: \")\n",
    "print(name)"
   ]
  },
  {
   "cell_type": "code",
   "execution_count": 5,
   "metadata": {},
   "outputs": [],
   "source": [
    "# print(\"Welcome to Perak Technology\")"
   ]
  },
  {
   "cell_type": "code",
   "execution_count": 11,
   "metadata": {},
   "outputs": [
    {
     "name": "stdout",
     "output_type": "stream",
     "text": [
      "100\n",
      "200.0\n",
      "Perak Technology\n",
      "None\n"
     ]
    }
   ],
   "source": [
    "counter = 100 # integer\n",
    "distance = 200.0 # float\n",
    "name = \"Perak Technology\"# string\n",
    "z = None# null\n",
    "\n",
    "print(counter)\n",
    "print(distance)\n",
    "print(name)\n",
    "print(z)"
   ]
  },
  {
   "cell_type": "code",
   "execution_count": 13,
   "metadata": {},
   "outputs": [
    {
     "name": "stdout",
     "output_type": "stream",
     "text": [
      "100\n",
      "One Hundred\n"
     ]
    }
   ],
   "source": [
    "counter = 100 # integer\n",
    "print(counter)\n",
    "counter = \"One Hundred\" # string\n",
    "print(counter)"
   ]
  },
  {
   "cell_type": "code",
   "execution_count": 14,
   "metadata": {},
   "outputs": [
    {
     "name": "stdout",
     "output_type": "stream",
     "text": [
      "100\n",
      "100\n",
      "100\n"
     ]
    }
   ],
   "source": [
    "a = b = c = 100 # all 3 value is 100\n",
    "print(a)\n",
    "print(b)\n",
    "print(c)"
   ]
  },
  {
   "cell_type": "code",
   "execution_count": 15,
   "metadata": {},
   "outputs": [
    {
     "name": "stdout",
     "output_type": "stream",
     "text": [
      "10\n",
      "120.0\n",
      "Perak Technology\n"
     ]
    }
   ],
   "source": [
    "a, b, c, = 10, 120.0, \"Perak Technology\"\n",
    "print(a)\n",
    "print(b)\n",
    "print(c)"
   ]
  },
  {
   "cell_type": "code",
   "execution_count": 20,
   "metadata": {},
   "outputs": [
    {
     "name": "stdout",
     "output_type": "stream",
     "text": [
      "-50\n",
      "-50.0\n",
      "50\n"
     ]
    }
   ],
   "source": [
    "x = -50\n",
    "a = int(x) # change x to integer\n",
    "b = float(x) # change x to float\n",
    "c = abs(x) # get x absolute value\n",
    "print(a)\n",
    "print(b)\n",
    "print(c)"
   ]
  },
  {
   "cell_type": "code",
   "execution_count": 22,
   "metadata": {},
   "outputs": [
    {
     "name": "stdout",
     "output_type": "stream",
     "text": [
      "2232 Perak Technology Members\n"
     ]
    }
   ],
   "source": [
    "num = 2232\n",
    "str = \"{} Perak Technology Members\".format(num)\n",
    "print(str)"
   ]
  },
  {
   "cell_type": "code",
   "execution_count": 25,
   "metadata": {},
   "outputs": [
    {
     "name": "stdout",
     "output_type": "stream",
     "text": [
      "SalamPerak Technology\n",
      "SalamSalam\n",
      "a\n",
      "ala\n"
     ]
    }
   ],
   "source": [
    "a = \"Salam\"\n",
    "b = \"Perak Technology\"\n",
    "p = a + b\n",
    "q = a * 2\n",
    "r = a[1]\n",
    "s = a[1:4]\n",
    "print(p)\n",
    "print(q)\n",
    "print(r)\n",
    "print(s)"
   ]
  },
  {
   "cell_type": "code",
   "execution_count": 35,
   "metadata": {},
   "outputs": [
    {
     "name": "stdout",
     "output_type": "stream",
     "text": [
      "2\n",
      "False\n",
      "False\n",
      "perak technology\n",
      "PERAK TECHNOLOGY\n",
      "Perak Technology Session\n",
      "['Perak', 'Technology']\n",
      "Perak Technology\n",
      "16\n"
     ]
    }
   ],
   "source": [
    "str = \"Perak Technology\"\n",
    "a = str.count(\"o\")\n",
    "b = str.isalpha()\n",
    "c = str.isdigit()\n",
    "d = str.lower()\n",
    "e = str.upper()\n",
    "f = str.replace(\"Technology\",\"Technology Session\")\n",
    "g = str.split(' ')\n",
    "h = str.strip()\n",
    "i = len(str)\n",
    "print(a)\n",
    "print(b)\n",
    "print(c)\n",
    "print(d)\n",
    "print(e)\n",
    "print(f)\n",
    "print(g)\n",
    "print(h)\n",
    "print(i)"
   ]
  },
  {
   "cell_type": "code",
   "execution_count": 36,
   "metadata": {},
   "outputs": [
    {
     "name": "stdout",
     "output_type": "stream",
     "text": [
      "Perak\n",
      "['Perak', 'Technology', 'Best', 1]\n"
     ]
    }
   ],
   "source": [
    "list = [\"Perak\", \"Technology\", \"No.\", 1]\n",
    "print(list[0])\n",
    "list[2] = \"Best\"\n",
    "print(list)"
   ]
  },
  {
   "cell_type": "code",
   "execution_count": 37,
   "metadata": {},
   "outputs": [
    {
     "name": "stdout",
     "output_type": "stream",
     "text": [
      "Technology\n"
     ]
    },
    {
     "ename": "TypeError",
     "evalue": "'tuple' object does not support item assignment",
     "output_type": "error",
     "traceback": [
      "\u001b[1;31m---------------------------------------------------------------------------\u001b[0m",
      "\u001b[1;31mTypeError\u001b[0m                                 Traceback (most recent call last)",
      "\u001b[1;32m<ipython-input-37-0539ac17bab6>\u001b[0m in \u001b[0;36m<module>\u001b[1;34m\u001b[0m\n\u001b[0;32m      1\u001b[0m \u001b[0mt\u001b[0m \u001b[1;33m=\u001b[0m \u001b[1;33m(\u001b[0m\u001b[1;34m\"Perak\"\u001b[0m\u001b[1;33m,\u001b[0m \u001b[1;34m\"Technology\"\u001b[0m\u001b[1;33m,\u001b[0m \u001b[1;34m\"No.\"\u001b[0m\u001b[1;33m,\u001b[0m \u001b[1;36m1\u001b[0m\u001b[1;33m)\u001b[0m\u001b[1;33m\u001b[0m\u001b[1;33m\u001b[0m\u001b[0m\n\u001b[0;32m      2\u001b[0m \u001b[0mprint\u001b[0m\u001b[1;33m(\u001b[0m\u001b[0mt\u001b[0m\u001b[1;33m[\u001b[0m\u001b[1;36m1\u001b[0m\u001b[1;33m]\u001b[0m\u001b[1;33m)\u001b[0m\u001b[1;33m\u001b[0m\u001b[1;33m\u001b[0m\u001b[0m\n\u001b[1;32m----> 3\u001b[1;33m \u001b[0mt\u001b[0m\u001b[1;33m[\u001b[0m\u001b[1;36m2\u001b[0m\u001b[1;33m]\u001b[0m \u001b[1;33m=\u001b[0m \u001b[1;34m\"Best\"\u001b[0m\u001b[1;33m\u001b[0m\u001b[1;33m\u001b[0m\u001b[0m\n\u001b[0m",
      "\u001b[1;31mTypeError\u001b[0m: 'tuple' object does not support item assignment"
     ]
    }
   ],
   "source": [
    "t = (\"Perak\", \"Technology\", \"No.\", 1)\n",
    "print(t[1])\n",
    "t[2] = \"Best\""
   ]
  },
  {
   "cell_type": "code",
   "execution_count": 38,
   "metadata": {},
   "outputs": [
    {
     "name": "stdout",
     "output_type": "stream",
     "text": [
      "Smaller\n"
     ]
    }
   ],
   "source": [
    "a = 2\n",
    "b = 5\n",
    "if a > b:\n",
    "\tprint(\"Larger\")\n",
    "elif a < b:\n",
    "\tprint(\"Smaller\")\n",
    "else:\n",
    "\tprint(\"Equal\")"
   ]
  },
  {
   "cell_type": "code",
   "execution_count": 39,
   "metadata": {},
   "outputs": [
    {
     "name": "stdout",
     "output_type": "stream",
     "text": [
      "Current letter:  P\n",
      "Current letter:  e\n",
      "Current letter:  r\n",
      "Current letter:  a\n",
      "Current letter:  k\n"
     ]
    }
   ],
   "source": [
    "for letter in \"Perak\":\n",
    "\tprint(\"Current letter: \",letter)\n"
   ]
  },
  {
   "cell_type": "code",
   "execution_count": 40,
   "metadata": {},
   "outputs": [
    {
     "name": "stdout",
     "output_type": "stream",
     "text": [
      "Current count:  5\n",
      "Current count:  4\n",
      "Current count:  3\n",
      "Current count:  2\n",
      "Current count:  1\n"
     ]
    }
   ],
   "source": [
    "count = 5\n",
    "while count > 0:\n",
    "\tprint(\"Current count: \", count)\n",
    "\tcount = count - 1"
   ]
  },
  {
   "cell_type": "code",
   "execution_count": 42,
   "metadata": {},
   "outputs": [
    {
     "name": "stdout",
     "output_type": "stream",
     "text": [
      "Welcome Home Perak Technology\n"
     ]
    }
   ],
   "source": [
    "def welcome(name):\n",
    "\tprint(\"Welcome Home\", name)\n",
    "\treturn\n",
    "\n",
    "welcome(\"Perak Technology\")"
   ]
  },
  {
   "cell_type": "code",
   "execution_count": null,
   "metadata": {},
   "outputs": [],
   "source": []
  }
 ],
 "metadata": {
  "kernelspec": {
   "display_name": "Python 3",
   "language": "python",
   "name": "python3"
  },
  "language_info": {
   "codemirror_mode": {
    "name": "ipython",
    "version": 3
   },
   "file_extension": ".py",
   "mimetype": "text/x-python",
   "name": "python",
   "nbconvert_exporter": "python",
   "pygments_lexer": "ipython3",
   "version": "3.7.2"
  }
 },
 "nbformat": 4,
 "nbformat_minor": 2
}
